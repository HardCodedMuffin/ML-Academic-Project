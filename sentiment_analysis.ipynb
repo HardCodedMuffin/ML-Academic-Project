{
  "nbformat": 4,
  "nbformat_minor": 0,
  "metadata": {
    "kernelspec": {
      "display_name": "Python 3",
      "language": "python",
      "name": "python3"
    },
    "language_info": {
      "codemirror_mode": {
        "name": "ipython",
        "version": 3
      },
      "file_extension": ".py",
      "mimetype": "text/x-python",
      "name": "python",
      "nbconvert_exporter": "python",
      "pygments_lexer": "ipython3",
      "version": "3.8.5"
    },
    "colab": {
      "name": "sentiment_analysis.ipynb",
      "provenance": [],
      "collapsed_sections": []
    }
  },
  "cells": [
    {
      "cell_type": "code",
      "metadata": {
        "id": "Q2JmbBK_B4da"
      },
      "source": [
        "from tensorflow.python.keras.preprocessing.sequence import pad_sequences\n",
        "from tensorflow.python.keras.layers import Embedding, GRU, Dense\n",
        "from tensorflow.python.keras.preprocessing.text import Tokenizer\n",
        "from tensorflow.python.keras.models import Sequential\n",
        "from tensorflow.keras.optimizers import Adam\n",
        "\n",
        "import tensorflow as tf\n",
        "import pandas as pd\n",
        "import numpy as np\n",
        "import string"
      ],
      "execution_count": 33,
      "outputs": []
    },
    {
      "cell_type": "code",
      "metadata": {
        "id": "74_sxMbjB4db",
        "colab": {
          "base_uri": "https://localhost:8080/",
          "height": 206
        },
        "outputId": "87722301-e5c8-41e9-98be-2fbf72b87683"
      },
      "source": [
        "df = pd.read_csv(\"turkish_movie_sentiment_dataset.csv\")\n",
        "df.head()"
      ],
      "execution_count": 34,
      "outputs": [
        {
          "output_type": "execute_result",
          "data": {
            "text/html": [
              "<div>\n",
              "<style scoped>\n",
              "    .dataframe tbody tr th:only-of-type {\n",
              "        vertical-align: middle;\n",
              "    }\n",
              "\n",
              "    .dataframe tbody tr th {\n",
              "        vertical-align: top;\n",
              "    }\n",
              "\n",
              "    .dataframe thead th {\n",
              "        text-align: right;\n",
              "    }\n",
              "</style>\n",
              "<table border=\"1\" class=\"dataframe\">\n",
              "  <thead>\n",
              "    <tr style=\"text-align: right;\">\n",
              "      <th></th>\n",
              "      <th>comment</th>\n",
              "      <th>film_name</th>\n",
              "      <th>point</th>\n",
              "    </tr>\n",
              "  </thead>\n",
              "  <tbody>\n",
              "    <tr>\n",
              "      <th>0</th>\n",
              "      <td>\\n                      Jean Reno denince zate...</td>\n",
              "      <td>Sevginin Gücü</td>\n",
              "      <td>5,0</td>\n",
              "    </tr>\n",
              "    <tr>\n",
              "      <th>1</th>\n",
              "      <td>\\n                      Ekşın falan izlemek is...</td>\n",
              "      <td>Sevginin Gücü</td>\n",
              "      <td>5,0</td>\n",
              "    </tr>\n",
              "    <tr>\n",
              "      <th>2</th>\n",
              "      <td>\\n                      Bu yapım hakkında öyle...</td>\n",
              "      <td>Sevginin Gücü</td>\n",
              "      <td>5,0</td>\n",
              "    </tr>\n",
              "    <tr>\n",
              "      <th>3</th>\n",
              "      <td>\\n                      finali yeter... (sting...</td>\n",
              "      <td>Sevginin Gücü</td>\n",
              "      <td>5,0</td>\n",
              "    </tr>\n",
              "    <tr>\n",
              "      <th>4</th>\n",
              "      <td>\\n                      Jean Reno..\\r\\nbu adam...</td>\n",
              "      <td>Sevginin Gücü</td>\n",
              "      <td>5,0</td>\n",
              "    </tr>\n",
              "  </tbody>\n",
              "</table>\n",
              "</div>"
            ],
            "text/plain": [
              "                                             comment      film_name point\n",
              "0  \\n                      Jean Reno denince zate...  Sevginin Gücü   5,0\n",
              "1  \\n                      Ekşın falan izlemek is...  Sevginin Gücü   5,0\n",
              "2  \\n                      Bu yapım hakkında öyle...  Sevginin Gücü   5,0\n",
              "3  \\n                      finali yeter... (sting...  Sevginin Gücü   5,0\n",
              "4  \\n                      Jean Reno..\\r\\nbu adam...  Sevginin Gücü   5,0"
            ]
          },
          "metadata": {
            "tags": []
          },
          "execution_count": 34
        }
      ]
    },
    {
      "cell_type": "code",
      "metadata": {
        "id": "JyEtOI7hB4dc",
        "colab": {
          "base_uri": "https://localhost:8080/"
        },
        "outputId": "7cb90b2a-2a38-44fa-add4-2cd4dce1c2d8"
      },
      "source": [
        "df.shape"
      ],
      "execution_count": 35,
      "outputs": [
        {
          "output_type": "execute_result",
          "data": {
            "text/plain": [
              "(83227, 3)"
            ]
          },
          "metadata": {
            "tags": []
          },
          "execution_count": 35
        }
      ]
    },
    {
      "cell_type": "code",
      "metadata": {
        "id": "Z289-qp_B4dc",
        "colab": {
          "base_uri": "https://localhost:8080/"
        },
        "outputId": "4ebcc336-4e6e-4a70-c81c-168528340ef3"
      },
      "source": [
        "comments = lambda x : x[23:-24]\n",
        "\n",
        "df[\"comment\"] = df[\"comment\"].apply(comments)\n",
        "df[\"comment\"].head()"
      ],
      "execution_count": 36,
      "outputs": [
        {
          "output_type": "execute_result",
          "data": {
            "text/plain": [
              "0    Jean Reno denince zaten leon filmi gelir akla ...\n",
              "1    Ekşın falan izlemek istiyorsanız eğer bunu izl...\n",
              "2    Bu yapım hakkında öyle çok şey yazabilirim ki ...\n",
              "3    finali yeter... (sting - shape of my heart)\\r\\...\n",
              "4    Jean Reno..\\r\\nbu adam kusursuz biri..\\r\\nve o...\n",
              "Name: comment, dtype: object"
            ]
          },
          "metadata": {
            "tags": []
          },
          "execution_count": 36
        }
      ]
    },
    {
      "cell_type": "code",
      "metadata": {
        "id": "ZnYM8U61B4dd",
        "colab": {
          "base_uri": "https://localhost:8080/"
        },
        "outputId": "612ec1de-33d0-4258-e10b-9b01ce431fca"
      },
      "source": [
        "floatize = lambda x : float(x[0:-2])\n",
        "\n",
        "df[\"point\"] = df[\"point\"].apply(floatize)\n",
        "df[\"point\"].value_counts()"
      ],
      "execution_count": 37,
      "outputs": [
        {
          "output_type": "execute_result",
          "data": {
            "text/plain": [
              "4.0    27463\n",
              "5.0    15873\n",
              "3.0    14494\n",
              "2.0    13866\n",
              "1.0     6381\n",
              "0.0     5150\n",
              "Name: point, dtype: int64"
            ]
          },
          "metadata": {
            "tags": []
          },
          "execution_count": 37
        }
      ]
    },
    {
      "cell_type": "code",
      "metadata": {
        "id": "U92lkxO8B4de",
        "colab": {
          "base_uri": "https://localhost:8080/"
        },
        "outputId": "816741d1-60c8-4078-915f-7bfa70ff24f3"
      },
      "source": [
        "df[\"point\"] = df[\"point\"].replace(1, 0)\n",
        "df[\"point\"] = df[\"point\"].replace(2, 0)\n",
        "df[\"point\"] = df[\"point\"].replace(3, 1)\n",
        "df[\"point\"] = df[\"point\"].replace(4, 1)\n",
        "df[\"point\"] = df[\"point\"].replace(5, 1)\n",
        "df[\"point\"].value_counts()"
      ],
      "execution_count": 38,
      "outputs": [
        {
          "output_type": "execute_result",
          "data": {
            "text/plain": [
              "1.0    57830\n",
              "0.0    25397\n",
              "Name: point, dtype: int64"
            ]
          },
          "metadata": {
            "tags": []
          },
          "execution_count": 38
        }
      ]
    },
    {
      "cell_type": "code",
      "metadata": {
        "id": "PYKwHSJxB4df",
        "colab": {
          "base_uri": "https://localhost:8080/",
          "height": 206
        },
        "outputId": "6126252e-1346-4598-8c83-ec2f30fd7ce4"
      },
      "source": [
        "df.reset_index(inplace = True)\n",
        "df.drop(\"index\", axis = 1, inplace = True)\n",
        "df.head()"
      ],
      "execution_count": 39,
      "outputs": [
        {
          "output_type": "execute_result",
          "data": {
            "text/html": [
              "<div>\n",
              "<style scoped>\n",
              "    .dataframe tbody tr th:only-of-type {\n",
              "        vertical-align: middle;\n",
              "    }\n",
              "\n",
              "    .dataframe tbody tr th {\n",
              "        vertical-align: top;\n",
              "    }\n",
              "\n",
              "    .dataframe thead th {\n",
              "        text-align: right;\n",
              "    }\n",
              "</style>\n",
              "<table border=\"1\" class=\"dataframe\">\n",
              "  <thead>\n",
              "    <tr style=\"text-align: right;\">\n",
              "      <th></th>\n",
              "      <th>comment</th>\n",
              "      <th>film_name</th>\n",
              "      <th>point</th>\n",
              "    </tr>\n",
              "  </thead>\n",
              "  <tbody>\n",
              "    <tr>\n",
              "      <th>0</th>\n",
              "      <td>Jean Reno denince zaten leon filmi gelir akla ...</td>\n",
              "      <td>Sevginin Gücü</td>\n",
              "      <td>1.0</td>\n",
              "    </tr>\n",
              "    <tr>\n",
              "      <th>1</th>\n",
              "      <td>Ekşın falan izlemek istiyorsanız eğer bunu izl...</td>\n",
              "      <td>Sevginin Gücü</td>\n",
              "      <td>1.0</td>\n",
              "    </tr>\n",
              "    <tr>\n",
              "      <th>2</th>\n",
              "      <td>Bu yapım hakkında öyle çok şey yazabilirim ki ...</td>\n",
              "      <td>Sevginin Gücü</td>\n",
              "      <td>1.0</td>\n",
              "    </tr>\n",
              "    <tr>\n",
              "      <th>3</th>\n",
              "      <td>finali yeter... (sting - shape of my heart)\\r\\...</td>\n",
              "      <td>Sevginin Gücü</td>\n",
              "      <td>1.0</td>\n",
              "    </tr>\n",
              "    <tr>\n",
              "      <th>4</th>\n",
              "      <td>Jean Reno..\\r\\nbu adam kusursuz biri..\\r\\nve o...</td>\n",
              "      <td>Sevginin Gücü</td>\n",
              "      <td>1.0</td>\n",
              "    </tr>\n",
              "  </tbody>\n",
              "</table>\n",
              "</div>"
            ],
            "text/plain": [
              "                                             comment      film_name  point\n",
              "0  Jean Reno denince zaten leon filmi gelir akla ...  Sevginin Gücü    1.0\n",
              "1  Ekşın falan izlemek istiyorsanız eğer bunu izl...  Sevginin Gücü    1.0\n",
              "2  Bu yapım hakkında öyle çok şey yazabilirim ki ...  Sevginin Gücü    1.0\n",
              "3  finali yeter... (sting - shape of my heart)\\r\\...  Sevginin Gücü    1.0\n",
              "4  Jean Reno..\\r\\nbu adam kusursuz biri..\\r\\nve o...  Sevginin Gücü    1.0"
            ]
          },
          "metadata": {
            "tags": []
          },
          "execution_count": 39
        }
      ]
    },
    {
      "cell_type": "code",
      "metadata": {
        "id": "8T7qFFKBg6w4"
      },
      "source": [
        "df_0 = df[(df[\"point\"] == 0.0)]\r\n",
        "df_1 = df[(df[\"point\"] == 1.0)]\r\n",
        "df_1 = df.iloc[0:25397, :]"
      ],
      "execution_count": 40,
      "outputs": []
    },
    {
      "cell_type": "code",
      "metadata": {
        "colab": {
          "base_uri": "https://localhost:8080/"
        },
        "id": "VUELW4JAhtEg",
        "outputId": "5c628983-2657-4166-913d-35fbe357e4a4"
      },
      "source": [
        "df = pd.concat([df_0, df_1])\r\n",
        "df.shape"
      ],
      "execution_count": 41,
      "outputs": [
        {
          "output_type": "execute_result",
          "data": {
            "text/plain": [
              "(50794, 3)"
            ]
          },
          "metadata": {
            "tags": []
          },
          "execution_count": 41
        }
      ]
    },
    {
      "cell_type": "code",
      "metadata": {
        "id": "B8Fqw3L7B4df",
        "colab": {
          "base_uri": "https://localhost:8080/",
          "height": 206
        },
        "outputId": "ee369d66-ad08-4de9-d373-38f7a76c0719"
      },
      "source": [
        "df[\"comment\"] = df[\"comment\"].apply(lambda x: x.lower())\n",
        "df.head()"
      ],
      "execution_count": 42,
      "outputs": [
        {
          "output_type": "execute_result",
          "data": {
            "text/html": [
              "<div>\n",
              "<style scoped>\n",
              "    .dataframe tbody tr th:only-of-type {\n",
              "        vertical-align: middle;\n",
              "    }\n",
              "\n",
              "    .dataframe tbody tr th {\n",
              "        vertical-align: top;\n",
              "    }\n",
              "\n",
              "    .dataframe thead th {\n",
              "        text-align: right;\n",
              "    }\n",
              "</style>\n",
              "<table border=\"1\" class=\"dataframe\">\n",
              "  <thead>\n",
              "    <tr style=\"text-align: right;\">\n",
              "      <th></th>\n",
              "      <th>comment</th>\n",
              "      <th>film_name</th>\n",
              "      <th>point</th>\n",
              "    </tr>\n",
              "  </thead>\n",
              "  <tbody>\n",
              "    <tr>\n",
              "      <th>8</th>\n",
              "      <td>film güzel ama çok abartıldığını düşünüyorum\\n...</td>\n",
              "      <td>Sevginin Gücü</td>\n",
              "      <td>0.0</td>\n",
              "    </tr>\n",
              "    <tr>\n",
              "      <th>20</th>\n",
              "      <td>diğer remake'lerden kalite olarak ne üstün ne ...</td>\n",
              "      <td>Teksas Katliamı 3D</td>\n",
              "      <td>0.0</td>\n",
              "    </tr>\n",
              "    <tr>\n",
              "      <th>21</th>\n",
              "      <td>güzel bir devam filmi fikriyle yola çıkılmış, ...</td>\n",
              "      <td>Teksas Katliamı 3D</td>\n",
              "      <td>0.0</td>\n",
              "    </tr>\n",
              "    <tr>\n",
              "      <th>24</th>\n",
              "      <td>teksas katliamı serisi fanı olarak bu filmi va...</td>\n",
              "      <td>Teksas Katliamı 3D</td>\n",
              "      <td>0.0</td>\n",
              "    </tr>\n",
              "    <tr>\n",
              "      <th>40</th>\n",
              "      <td>bakalım 3 gün içinde tüm seriyi izlicem. filmi...</td>\n",
              "      <td>Baba 3</td>\n",
              "      <td>0.0</td>\n",
              "    </tr>\n",
              "  </tbody>\n",
              "</table>\n",
              "</div>"
            ],
            "text/plain": [
              "                                              comment  ... point\n",
              "8   film güzel ama çok abartıldığını düşünüyorum\\n...  ...   0.0\n",
              "20  diğer remake'lerden kalite olarak ne üstün ne ...  ...   0.0\n",
              "21  güzel bir devam filmi fikriyle yola çıkılmış, ...  ...   0.0\n",
              "24  teksas katliamı serisi fanı olarak bu filmi va...  ...   0.0\n",
              "40  bakalım 3 gün içinde tüm seriyi izlicem. filmi...  ...   0.0\n",
              "\n",
              "[5 rows x 3 columns]"
            ]
          },
          "metadata": {
            "tags": []
          },
          "execution_count": 42
        }
      ]
    },
    {
      "cell_type": "code",
      "metadata": {
        "id": "yXuyHavfB4df",
        "colab": {
          "base_uri": "https://localhost:8080/",
          "height": 206
        },
        "outputId": "ce0ae32f-a76b-4593-e074-9572c9c9d1ee"
      },
      "source": [
        "def remove_punctuation(text):\n",
        "  no_punc = [words for words in text if words not in string.punctuation]\n",
        "  word_wo_punc = \"\".join(no_punc)\n",
        "  return word_wo_punc\n",
        "\n",
        "df[\"comment\"] = df[\"comment\"].apply(lambda x: remove_punctuation(x))\n",
        "df[\"comment\"] = df[\"comment\"].apply(lambda x: x.replace(\"\\r\", \" \"))\n",
        "df[\"comment\"] = df[\"comment\"].apply(lambda x: x.replace(\"\\n\", \" \"))\n",
        "\n",
        "df.head()"
      ],
      "execution_count": 43,
      "outputs": [
        {
          "output_type": "execute_result",
          "data": {
            "text/html": [
              "<div>\n",
              "<style scoped>\n",
              "    .dataframe tbody tr th:only-of-type {\n",
              "        vertical-align: middle;\n",
              "    }\n",
              "\n",
              "    .dataframe tbody tr th {\n",
              "        vertical-align: top;\n",
              "    }\n",
              "\n",
              "    .dataframe thead th {\n",
              "        text-align: right;\n",
              "    }\n",
              "</style>\n",
              "<table border=\"1\" class=\"dataframe\">\n",
              "  <thead>\n",
              "    <tr style=\"text-align: right;\">\n",
              "      <th></th>\n",
              "      <th>comment</th>\n",
              "      <th>film_name</th>\n",
              "      <th>point</th>\n",
              "    </tr>\n",
              "  </thead>\n",
              "  <tbody>\n",
              "    <tr>\n",
              "      <th>8</th>\n",
              "      <td>film güzel ama çok abartıldığını düşünüyorum ö...</td>\n",
              "      <td>Sevginin Gücü</td>\n",
              "      <td>0.0</td>\n",
              "    </tr>\n",
              "    <tr>\n",
              "      <th>20</th>\n",
              "      <td>diğer remakelerden kalite olarak ne üstün ne d...</td>\n",
              "      <td>Teksas Katliamı 3D</td>\n",
              "      <td>0.0</td>\n",
              "    </tr>\n",
              "    <tr>\n",
              "      <th>21</th>\n",
              "      <td>güzel bir devam filmi fikriyle yola çıkılmış a...</td>\n",
              "      <td>Teksas Katliamı 3D</td>\n",
              "      <td>0.0</td>\n",
              "    </tr>\n",
              "    <tr>\n",
              "      <th>24</th>\n",
              "      <td>teksas katliamı serisi fanı olarak bu filmi va...</td>\n",
              "      <td>Teksas Katliamı 3D</td>\n",
              "      <td>0.0</td>\n",
              "    </tr>\n",
              "    <tr>\n",
              "      <th>40</th>\n",
              "      <td>bakalım 3 gün içinde tüm seriyi izlicem filmi ...</td>\n",
              "      <td>Baba 3</td>\n",
              "      <td>0.0</td>\n",
              "    </tr>\n",
              "  </tbody>\n",
              "</table>\n",
              "</div>"
            ],
            "text/plain": [
              "                                              comment  ... point\n",
              "8   film güzel ama çok abartıldığını düşünüyorum ö...  ...   0.0\n",
              "20  diğer remakelerden kalite olarak ne üstün ne d...  ...   0.0\n",
              "21  güzel bir devam filmi fikriyle yola çıkılmış a...  ...   0.0\n",
              "24  teksas katliamı serisi fanı olarak bu filmi va...  ...   0.0\n",
              "40  bakalım 3 gün içinde tüm seriyi izlicem filmi ...  ...   0.0\n",
              "\n",
              "[5 rows x 3 columns]"
            ]
          },
          "metadata": {
            "tags": []
          },
          "execution_count": 43
        }
      ]
    },
    {
      "cell_type": "code",
      "metadata": {
        "id": "xNRyMkMAB4df",
        "colab": {
          "base_uri": "https://localhost:8080/",
          "height": 206
        },
        "outputId": "e62aa126-5965-456a-cd76-91cd80e0b27f"
      },
      "source": [
        "def remove_numeric(corpus):\n",
        "  output = \"\".join(words for words in corpus if not words.isdigit())\n",
        "  return output\n",
        "\n",
        "df[\"comment\"] = df[\"comment\"].apply(lambda x: remove_numeric(x)) \n",
        "df.head()"
      ],
      "execution_count": 44,
      "outputs": [
        {
          "output_type": "execute_result",
          "data": {
            "text/html": [
              "<div>\n",
              "<style scoped>\n",
              "    .dataframe tbody tr th:only-of-type {\n",
              "        vertical-align: middle;\n",
              "    }\n",
              "\n",
              "    .dataframe tbody tr th {\n",
              "        vertical-align: top;\n",
              "    }\n",
              "\n",
              "    .dataframe thead th {\n",
              "        text-align: right;\n",
              "    }\n",
              "</style>\n",
              "<table border=\"1\" class=\"dataframe\">\n",
              "  <thead>\n",
              "    <tr style=\"text-align: right;\">\n",
              "      <th></th>\n",
              "      <th>comment</th>\n",
              "      <th>film_name</th>\n",
              "      <th>point</th>\n",
              "    </tr>\n",
              "  </thead>\n",
              "  <tbody>\n",
              "    <tr>\n",
              "      <th>8</th>\n",
              "      <td>film güzel ama çok abartıldığını düşünüyorum ö...</td>\n",
              "      <td>Sevginin Gücü</td>\n",
              "      <td>0.0</td>\n",
              "    </tr>\n",
              "    <tr>\n",
              "      <th>20</th>\n",
              "      <td>diğer remakelerden kalite olarak ne üstün ne d...</td>\n",
              "      <td>Teksas Katliamı 3D</td>\n",
              "      <td>0.0</td>\n",
              "    </tr>\n",
              "    <tr>\n",
              "      <th>21</th>\n",
              "      <td>güzel bir devam filmi fikriyle yola çıkılmış a...</td>\n",
              "      <td>Teksas Katliamı 3D</td>\n",
              "      <td>0.0</td>\n",
              "    </tr>\n",
              "    <tr>\n",
              "      <th>24</th>\n",
              "      <td>teksas katliamı serisi fanı olarak bu filmi va...</td>\n",
              "      <td>Teksas Katliamı 3D</td>\n",
              "      <td>0.0</td>\n",
              "    </tr>\n",
              "    <tr>\n",
              "      <th>40</th>\n",
              "      <td>bakalım  gün içinde tüm seriyi izlicem filmi g...</td>\n",
              "      <td>Baba 3</td>\n",
              "      <td>0.0</td>\n",
              "    </tr>\n",
              "  </tbody>\n",
              "</table>\n",
              "</div>"
            ],
            "text/plain": [
              "                                              comment  ... point\n",
              "8   film güzel ama çok abartıldığını düşünüyorum ö...  ...   0.0\n",
              "20  diğer remakelerden kalite olarak ne üstün ne d...  ...   0.0\n",
              "21  güzel bir devam filmi fikriyle yola çıkılmış a...  ...   0.0\n",
              "24  teksas katliamı serisi fanı olarak bu filmi va...  ...   0.0\n",
              "40  bakalım  gün içinde tüm seriyi izlicem filmi g...  ...   0.0\n",
              "\n",
              "[5 rows x 3 columns]"
            ]
          },
          "metadata": {
            "tags": []
          },
          "execution_count": 44
        }
      ]
    },
    {
      "cell_type": "code",
      "metadata": {
        "id": "kMEaNQ6qB4dg",
        "colab": {
          "base_uri": "https://localhost:8080/"
        },
        "outputId": "bd043597-a215-40ba-dfbf-99bcf26b4b04"
      },
      "source": [
        "#target = df[\"point\"].values.tolist()\n",
        "data = df[\"comment\"].values.tolist()\n",
        "\n",
        "#cutoff = int(len(data)*0.80)\n",
        "\n",
        "#x_train, x_test = data[:cutoff], data[cutoff:]\n",
        "#y_train, y_test = target[:cutoff], target[cutoff:]\n",
        "\n",
        "#x_train, x_val = x_train[:cutoff], x_train[cutoff:]\n",
        "#y_train, y_val = y_train[:cutoff], y_train[cutoff:]\n",
        "\n",
        "train, validate, test = np.split(df.sample(frac = 1, random_state = 42), [int(.6*len(df)), int(.8*len(df))])\n",
        "\n",
        "print(len(train)/len(data), len(test)/len(data), len(validate)/len(data))"
      ],
      "execution_count": 45,
      "outputs": [
        {
          "output_type": "stream",
          "text": [
            "0.5999921250541402 0.20000393747292988 0.20000393747292988\n"
          ],
          "name": "stdout"
        }
      ]
    },
    {
      "cell_type": "code",
      "metadata": {
        "id": "sXWbyvSNB4di"
      },
      "source": [
        "num_words = 15000\n",
        "tokenizer = Tokenizer(num_words = num_words)\n",
        "tokenizer.fit_on_texts(data)"
      ],
      "execution_count": 46,
      "outputs": []
    },
    {
      "cell_type": "code",
      "metadata": {
        "id": "skkdZOBMB4di",
        "colab": {
          "base_uri": "https://localhost:8080/"
        },
        "outputId": "6a46d71d-704d-4475-92d0-6451e794be5a"
      },
      "source": [
        "x_train_tokens = tokenizer.texts_to_sequences(train.comment)\n",
        "x_test_tokens = tokenizer.texts_to_sequences(test.comment)\n",
        "x_val_tokens = tokenizer.texts_to_sequences(validate.comment)\n",
        "\n",
        "#print([x_train[200]])\n",
        "print(x_train_tokens[200])"
      ],
      "execution_count": 47,
      "outputs": [
        {
          "output_type": "stream",
          "text": [
            "[1817, 99, 179, 1603, 996, 11, 249, 1, 541, 2266, 1162, 16, 226]\n"
          ],
          "name": "stdout"
        }
      ]
    },
    {
      "cell_type": "code",
      "metadata": {
        "id": "AVspyVqWB4di",
        "colab": {
          "base_uri": "https://localhost:8080/"
        },
        "outputId": "80e422ed-17c1-4ec6-d0a1-21e4a86d7f07"
      },
      "source": [
        "num_tokens = [len(tokens) for tokens in x_train_tokens + x_test_tokens]\n",
        "num_tokens = np.array(num_tokens)\n",
        "num_tokens"
      ],
      "execution_count": 48,
      "outputs": [
        {
          "output_type": "execute_result",
          "data": {
            "text/plain": [
              "array([85, 13, 10, ..., 38, 13, 61])"
            ]
          },
          "metadata": {
            "tags": []
          },
          "execution_count": 48
        }
      ]
    },
    {
      "cell_type": "code",
      "metadata": {
        "id": "0OWRpzSyB4di",
        "colab": {
          "base_uri": "https://localhost:8080/"
        },
        "outputId": "4a4f88fa-afca-478c-f9b2-e8b63dbeacb7"
      },
      "source": [
        "np.mean(num_tokens)"
      ],
      "execution_count": 49,
      "outputs": [
        {
          "output_type": "execute_result",
          "data": {
            "text/plain": [
              "32.54620401132029"
            ]
          },
          "metadata": {
            "tags": []
          },
          "execution_count": 49
        }
      ]
    },
    {
      "cell_type": "code",
      "metadata": {
        "id": "ZT6BaYlcB4di",
        "colab": {
          "base_uri": "https://localhost:8080/"
        },
        "outputId": "1502d215-591f-4364-e6df-44a554954cda"
      },
      "source": [
        "np.max(num_tokens)"
      ],
      "execution_count": 50,
      "outputs": [
        {
          "output_type": "execute_result",
          "data": {
            "text/plain": [
              "3402"
            ]
          },
          "metadata": {
            "tags": []
          },
          "execution_count": 50
        }
      ]
    },
    {
      "cell_type": "code",
      "metadata": {
        "id": "bUEjAdIYB4di",
        "colab": {
          "base_uri": "https://localhost:8080/"
        },
        "outputId": "fc662199-d77c-4659-bdf8-cb4e9e04031a"
      },
      "source": [
        "max_tokens = np.mean(num_tokens) + (5*np.std(num_tokens))\n",
        "max_tokens = int(max_tokens)\n",
        "max_tokens"
      ],
      "execution_count": 51,
      "outputs": [
        {
          "output_type": "execute_result",
          "data": {
            "text/plain": [
              "306"
            ]
          },
          "metadata": {
            "tags": []
          },
          "execution_count": 51
        }
      ]
    },
    {
      "cell_type": "code",
      "metadata": {
        "id": "SMhJiC1mB4dj",
        "colab": {
          "base_uri": "https://localhost:8080/"
        },
        "outputId": "69121a04-1331-4dd8-8d98-916d788ad931"
      },
      "source": [
        "np.sum(num_tokens < max_tokens) / len(num_tokens)"
      ],
      "execution_count": 52,
      "outputs": [
        {
          "output_type": "execute_result",
          "data": {
            "text/plain": [
              "0.992469545957918"
            ]
          },
          "metadata": {
            "tags": []
          },
          "execution_count": 52
        }
      ]
    },
    {
      "cell_type": "code",
      "metadata": {
        "id": "h3dtLwWqB4dj"
      },
      "source": [
        "x_train_pad = pad_sequences(x_train_tokens, maxlen = max_tokens) \n",
        "x_test_pad = pad_sequences(x_test_tokens, maxlen = max_tokens)\n",
        "x_val_pad = pad_sequences(x_val_tokens, maxlen = max_tokens)"
      ],
      "execution_count": 53,
      "outputs": []
    },
    {
      "cell_type": "code",
      "metadata": {
        "id": "9bYobJykB4dk",
        "colab": {
          "base_uri": "https://localhost:8080/"
        },
        "outputId": "77485cd8-8c8d-4308-cb41-5540775ee87b"
      },
      "source": [
        "np.array(x_train_tokens[1])"
      ],
      "execution_count": 54,
      "outputs": [
        {
          "output_type": "execute_result",
          "data": {
            "text/plain": [
              "array([  185,   101,   136,    17,     1,     8, 12193,   181,     2,\n",
              "          83,  1628,   405, 10215])"
            ]
          },
          "metadata": {
            "tags": []
          },
          "execution_count": 54
        }
      ]
    },
    {
      "cell_type": "code",
      "metadata": {
        "id": "9LvD68LpB4dk",
        "colab": {
          "base_uri": "https://localhost:8080/"
        },
        "outputId": "7eca2c4f-b8dd-4c58-8f89-382f00b523be"
      },
      "source": [
        "x_train_pad[1]"
      ],
      "execution_count": 55,
      "outputs": [
        {
          "output_type": "execute_result",
          "data": {
            "text/plain": [
              "array([    0,     0,     0,     0,     0,     0,     0,     0,     0,\n",
              "           0,     0,     0,     0,     0,     0,     0,     0,     0,\n",
              "           0,     0,     0,     0,     0,     0,     0,     0,     0,\n",
              "           0,     0,     0,     0,     0,     0,     0,     0,     0,\n",
              "           0,     0,     0,     0,     0,     0,     0,     0,     0,\n",
              "           0,     0,     0,     0,     0,     0,     0,     0,     0,\n",
              "           0,     0,     0,     0,     0,     0,     0,     0,     0,\n",
              "           0,     0,     0,     0,     0,     0,     0,     0,     0,\n",
              "           0,     0,     0,     0,     0,     0,     0,     0,     0,\n",
              "           0,     0,     0,     0,     0,     0,     0,     0,     0,\n",
              "           0,     0,     0,     0,     0,     0,     0,     0,     0,\n",
              "           0,     0,     0,     0,     0,     0,     0,     0,     0,\n",
              "           0,     0,     0,     0,     0,     0,     0,     0,     0,\n",
              "           0,     0,     0,     0,     0,     0,     0,     0,     0,\n",
              "           0,     0,     0,     0,     0,     0,     0,     0,     0,\n",
              "           0,     0,     0,     0,     0,     0,     0,     0,     0,\n",
              "           0,     0,     0,     0,     0,     0,     0,     0,     0,\n",
              "           0,     0,     0,     0,     0,     0,     0,     0,     0,\n",
              "           0,     0,     0,     0,     0,     0,     0,     0,     0,\n",
              "           0,     0,     0,     0,     0,     0,     0,     0,     0,\n",
              "           0,     0,     0,     0,     0,     0,     0,     0,     0,\n",
              "           0,     0,     0,     0,     0,     0,     0,     0,     0,\n",
              "           0,     0,     0,     0,     0,     0,     0,     0,     0,\n",
              "           0,     0,     0,     0,     0,     0,     0,     0,     0,\n",
              "           0,     0,     0,     0,     0,     0,     0,     0,     0,\n",
              "           0,     0,     0,     0,     0,     0,     0,     0,     0,\n",
              "           0,     0,     0,     0,     0,     0,     0,     0,     0,\n",
              "           0,     0,     0,     0,     0,     0,     0,     0,     0,\n",
              "           0,     0,     0,     0,     0,     0,     0,     0,     0,\n",
              "           0,     0,     0,     0,     0,     0,     0,     0,     0,\n",
              "           0,     0,     0,     0,     0,     0,     0,     0,     0,\n",
              "           0,     0,     0,     0,     0,     0,     0,     0,     0,\n",
              "           0,     0,     0,     0,     0,   185,   101,   136,    17,\n",
              "           1,     8, 12193,   181,     2,    83,  1628,   405, 10215],\n",
              "      dtype=int32)"
            ]
          },
          "metadata": {
            "tags": []
          },
          "execution_count": 55
        }
      ]
    },
    {
      "cell_type": "code",
      "metadata": {
        "id": "dTi9Pxs1B4dl"
      },
      "source": [
        "#model.add(layers.LSTM(128))\n",
        "#model.add(SimpleRNN(128))\n",
        "#model.add(Dense(1, activation = \"relu\"))\n",
        "#model.add(Dense(10, activation = \"softmax\"))\n",
        "\n",
        "#model = Sequential([\n",
        "#                    tf.keras.layers.Embedding(\n",
        "#                        input_dim = num_words,\n",
        "#                        output_dim = 25,\n",
        "#                        mask_zero = True),\n",
        "#                    tf.keras.layers.Bidirectional(tf.keras.layers.LSTM(64, return_sequences=True, input_shape=(5, 10))),\n",
        "#                    tf.keras.layers.Bidirectional(tf.keras.layers.LSTM(32)),\n",
        "#                    tf.keras.layers.Dense(64),\n",
        "#                    tf.keras.layers.Dense(1, activation = \"tanh\")\n",
        "#])\n",
        "\n",
        "embedding_size = 50\n",
        "model = Sequential([\n",
        "                   Embedding(input_dim = num_words, output_dim = embedding_size, input_length = max_tokens, name = \"embedding_layer\", mask_zero = True),\n",
        "                   GRU(units = 16, \n",
        "                       activation = \"tanh\",\n",
        "                       recurrent_activation = \"sigmoid\",\n",
        "                       use_bias = True,\n",
        "                       kernel_initializer = \"glorot_uniform\",\n",
        "                       recurrent_initializer = \"orthogonal\",\n",
        "                       bias_initializer = \"zeros\",\n",
        "                       dropout = 0.1,\n",
        "                       recurrent_dropout = 0.1,\n",
        "                       return_sequences = True,\n",
        "                       return_state = False),\n",
        "                   GRU(units = 8, return_sequences = True),\n",
        "                   GRU(units = 4),\n",
        "                   Dense(4),\n",
        "                   Dense(1, activation = \"sigmoid\")\n",
        "                   ])"
      ],
      "execution_count": 56,
      "outputs": []
    },
    {
      "cell_type": "code",
      "metadata": {
        "id": "PgLmhD0eB4dl",
        "colab": {
          "base_uri": "https://localhost:8080/"
        },
        "outputId": "1c6b382d-d59e-48a0-dfd2-dd0e9ea08c23"
      },
      "source": [
        "optimizer = Adam(lr = 1e-3)\n",
        "model.compile(loss = \"binary_crossentropy\", optimizer = optimizer, metrics = [\"accuracy\"])\n",
        "model.summary()"
      ],
      "execution_count": 57,
      "outputs": [
        {
          "output_type": "stream",
          "text": [
            "Model: \"sequential_1\"\n",
            "_________________________________________________________________\n",
            "Layer (type)                 Output Shape              Param #   \n",
            "=================================================================\n",
            "embedding_layer (Embedding)  (None, 306, 50)           750000    \n",
            "_________________________________________________________________\n",
            "gru_3 (GRU)                  (None, 306, 16)           3216      \n",
            "_________________________________________________________________\n",
            "gru_4 (GRU)                  (None, 306, 8)            600       \n",
            "_________________________________________________________________\n",
            "gru_5 (GRU)                  (None, 4)                 156       \n",
            "_________________________________________________________________\n",
            "dense_2 (Dense)              (None, 4)                 20        \n",
            "_________________________________________________________________\n",
            "dense_3 (Dense)              (None, 1)                 5         \n",
            "=================================================================\n",
            "Total params: 753,997\n",
            "Trainable params: 753,997\n",
            "Non-trainable params: 0\n",
            "_________________________________________________________________\n"
          ],
          "name": "stdout"
        }
      ]
    },
    {
      "cell_type": "code",
      "metadata": {
        "id": "k3bY7aBOB4dm",
        "colab": {
          "base_uri": "https://localhost:8080/"
        },
        "outputId": "5540e302-aa6e-4203-e3ef-0f7d29aa4687"
      },
      "source": [
        "x_train_pad = np.array(x_train_pad)\n",
        "y_train = np.array(train.point)\n",
        "\n",
        "x_val_pad = np.array(x_val_pad)\n",
        "y_val = np.array(validate.point)\n",
        "\n",
        "#model.fit(x_train_pad, y_train, validation_split=0.1, epochs = 5, batch_size = 256)\n",
        "model.fit(x_train_pad, y_train, validation_data=(x_val_pad, y_val), epochs = 5, batch_size = 64)"
      ],
      "execution_count": 58,
      "outputs": [
        {
          "output_type": "stream",
          "text": [
            "Epoch 1/5\n",
            "477/477 [==============================] - 379s 778ms/step - loss: 0.5920 - accuracy: 0.6776 - val_loss: 0.4889 - val_accuracy: 0.7717\n",
            "Epoch 2/5\n",
            "477/477 [==============================] - 370s 775ms/step - loss: 0.4060 - accuracy: 0.8226 - val_loss: 0.4958 - val_accuracy: 0.7689\n",
            "Epoch 3/5\n",
            "477/477 [==============================] - 373s 783ms/step - loss: 0.3355 - accuracy: 0.8633 - val_loss: 0.5247 - val_accuracy: 0.7625\n",
            "Epoch 4/5\n",
            "477/477 [==============================] - 379s 795ms/step - loss: 0.2717 - accuracy: 0.8957 - val_loss: 0.5666 - val_accuracy: 0.7584\n",
            "Epoch 5/5\n",
            "477/477 [==============================] - 381s 798ms/step - loss: 0.2250 - accuracy: 0.9203 - val_loss: 0.6545 - val_accuracy: 0.7554\n"
          ],
          "name": "stdout"
        },
        {
          "output_type": "execute_result",
          "data": {
            "text/plain": [
              "<tensorflow.python.keras.callbacks.History at 0x7f15d5758f50>"
            ]
          },
          "metadata": {
            "tags": []
          },
          "execution_count": 58
        }
      ]
    },
    {
      "cell_type": "code",
      "metadata": {
        "id": "DVZ3bNXTK4J7",
        "colab": {
          "base_uri": "https://localhost:8080/"
        },
        "outputId": "d34736ce-174c-46fc-e3fb-a8ad01c1ad67"
      },
      "source": [
        "model.save(\"RNN\")"
      ],
      "execution_count": 59,
      "outputs": [
        {
          "output_type": "stream",
          "text": [
            "INFO:tensorflow:Assets written to: RNN/assets\n"
          ],
          "name": "stdout"
        }
      ]
    },
    {
      "cell_type": "code",
      "metadata": {
        "id": "BtJB-QPAR0WV"
      },
      "source": [
        "modelRNN = tf.keras.models.load_model(\r\n",
        "    \"RNN\", custom_objects=None, compile=True, options=None\r\n",
        ")"
      ],
      "execution_count": 60,
      "outputs": []
    },
    {
      "cell_type": "code",
      "metadata": {
        "id": "D3XwSCXgi_yt"
      },
      "source": [
        "y_test = np.array(test.point)\r\n",
        "scores = modelRNN.evaluate(x_test_pad, y_test, verbose=0)"
      ],
      "execution_count": 61,
      "outputs": []
    },
    {
      "cell_type": "code",
      "metadata": {
        "id": "Y-Fk7d4-neTG",
        "colab": {
          "base_uri": "https://localhost:8080/"
        },
        "outputId": "456cdc91-5525-440c-b31f-78eb3fa043d6"
      },
      "source": [
        "print(\"%s: %.2f%%\" % (modelRNN.metrics_names[1], scores[1]*100))"
      ],
      "execution_count": 65,
      "outputs": [
        {
          "output_type": "stream",
          "text": [
            "accuracy: 76.54%\n"
          ],
          "name": "stdout"
        }
      ]
    },
    {
      "cell_type": "code",
      "metadata": {
        "id": "UMHWg53IWL29"
      },
      "source": [
        "idx = tokenizer.word_index\r\n",
        "inverse_map = dict(zip(idx.values(), idx.keys()))\r\n",
        "\r\n",
        "def tokens_to_string(tokens):\r\n",
        "    words = [inverse_map[token] for token in tokens if token != 0]\r\n",
        "    text = \" \".join(words)\r\n",
        "    return text"
      ],
      "execution_count": 63,
      "outputs": []
    },
    {
      "cell_type": "code",
      "metadata": {
        "id": "eP5a5dn9Z6vY",
        "colab": {
          "base_uri": "https://localhost:8080/"
        },
        "outputId": "94bad0ba-9408-4e5e-b3cf-70ed360badbd"
      },
      "source": [
        "prediction = modelRNN.predict(x_test_pad)\r\n",
        "print(tokens_to_string(x_test_pad[12]), prediction[12], y_test[12])\r\n",
        "print(tokens_to_string(x_test_pad[500]), prediction[500], y_test[500])"
      ],
      "execution_count": 64,
      "outputs": [
        {
          "output_type": "stream",
          "text": [
            "muhtemel aşk adıyla ülkemizde yayınlanan bu film aslında alıştığımız bir aşk filmi değil tamamen sınıfının hayatına odaklı geçen ve neredeyse aşk hariç her insanın gözüne bir film olmuş ancak filmin genel akışı kötüydü ve beni içine [0.01061919] 0.0\n",
            "yahu yorum yaparken bazı şeyleri akıl olumsuz yorum diye film hakları idi de marvel bu hakları alınca bize eski unutun o küçük işler yapan ezik bi spider ama şimdi stark tarafından artık demek istiyor ve bu da her süper kahramanın ilk filmi gibi yeni zamanını anlatıyor eminim si çok çok daha iyi olacak ve çok daha güçlü bir spiderman karşımıza çıkacak [0.9719253] 0.0\n"
          ],
          "name": "stdout"
        }
      ]
    }
  ]
}